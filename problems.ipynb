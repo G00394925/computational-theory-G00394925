{
 "cells": [
  {
   "cell_type": "markdown",
   "id": "79ecfdf9",
   "metadata": {},
   "source": [
    "# Computational Theory Problems "
   ]
  },
  {
   "cell_type": "markdown",
   "id": "01e3abb7",
   "metadata": {},
   "source": [
    "## Problem 1: Binary Words and Operations"
   ]
  },
  {
   "cell_type": "code",
   "execution_count": 77,
   "id": "98ee01a2",
   "metadata": {},
   "outputs": [],
   "source": [
    "import numpy as np\n",
    "import math"
   ]
  },
  {
   "cell_type": "markdown",
   "id": "d7490fa2",
   "metadata": {},
   "source": [
    "### Parity\n",
    "Parity is a function where a value is 1 if the input vector has an odd number of ones. <br> In a scenario where x = 1, y = 0, z = 1, the parity of this input would be 0, as there is an even number of ones. <br>\n",
    "Whereas if all inputs were equal to 1 the parity would then be 1. This is demonstrated in the code examples below. "
   ]
  },
  {
   "cell_type": "code",
   "execution_count": 78,
   "id": "7515302b",
   "metadata": {},
   "outputs": [],
   "source": [
    "def parity(x, y, z):\n",
    "    \"\"\"Converts the given variables to 32-bit unsigned integers and computes their bitwise parity (XOR).\n",
    "    Returns 1 for each bit position where an odd number of the inputs are 1, otherwise returns 0.\"\"\"\n",
    "    return np.uint32(x) ^ np.uint32(y) ^ np.uint32(z)"
   ]
  },
  {
   "cell_type": "markdown",
   "id": "9b492f53",
   "metadata": {},
   "source": [
    "##### Code example\n",
    "The first bit position of each input is one, leaving 3 ones, which of course is an odd number. <br>\n",
    "This is represented in the first bit position of the binary output, returning one given the odd number. <br>\n",
    "The same logic applies for each respective bit position."
   ]
  },
  {
   "cell_type": "code",
   "execution_count": 79,
   "id": "2327a615",
   "metadata": {},
   "outputs": [
    {
     "name": "stdout",
     "output_type": "stream",
     "text": [
      "Parity of 1010, 1100, 1111 is 1001\n"
     ]
    }
   ],
   "source": [
    "a, b, c = 0b1010, 0b1100, 0b1111  # Binary inputs\n",
    "result = parity(a, b, c)\n",
    "print(f\"Parity of {a:04b}, {b:04b}, {c:04b} is {result:04b}\")  # Output the result in binary format"
   ]
  },
  {
   "cell_type": "markdown",
   "id": "f196036c",
   "metadata": {},
   "source": [
    "### Choose\n",
    "The 'ch' function uses the input 'x' to choose whether 'y' or 'z' should be output. <br>\n",
    "If x = 1, y would be output. Otherwise if x = 0, z is output.<br>\n",
    "In a scenario where x = 1, y = 1, z = 0... the output would be y (1). Else if x = 0, the output would be z (0)"
   ]
  },
  {
   "cell_type": "code",
   "execution_count": 80,
   "id": "a6ef0801",
   "metadata": {},
   "outputs": [],
   "source": [
    "def ch(x, y, z):\n",
    "    \"\"\"Computes the 'choose' function: (x AND y) XOR (NOT x AND z).\n",
    "    \n",
    "    Converts the given variables to 32-bit unsigned integers before performing bitwise operations.\n",
    "    Returns y where x is 1, and z where x is 0.\n",
    "    \"\"\"\n",
    "    return (np.uint32(x) & np.uint32(y)) ^ (~np.uint32(x) & np.uint32(z))"
   ]
  },
  {
   "cell_type": "markdown",
   "id": "a95bbf7d",
   "metadata": {},
   "source": [
    "#### Code example\n",
    "Here we have three 4-bit inputs, where 'a' acts as the definition for 'b' and 'c'. <br>\n",
    "In the case of the first bit position, a = 1. Based on this, b is to be output, which is 0. <br>\n",
    "As for the third bit position where a = 0, c is to be output, which is 0."
   ]
  },
  {
   "cell_type": "code",
   "execution_count": 81,
   "id": "f79249c1",
   "metadata": {},
   "outputs": [
    {
     "name": "stdout",
     "output_type": "stream",
     "text": [
      "Choose of 0111, 1001 based on 1100 is 0101\n"
     ]
    }
   ],
   "source": [
    "a, b, c = 0b1100, 0b0111, 0b1001\n",
    "result = ch(a, b, c)\n",
    "print(f\"Choose of {b:04b}, {c:04b} based on {a:04b} is {result:04b}\")"
   ]
  },
  {
   "cell_type": "markdown",
   "id": "2f10df3e",
   "metadata": {},
   "source": [
    "### Majority\n",
    "This function returns '1' if the majority of the respective inputs are 1. Returns 0 otherwise."
   ]
  },
  {
   "cell_type": "code",
   "execution_count": 82,
   "id": "c7b2bdcb",
   "metadata": {},
   "outputs": [],
   "source": [
    "def maj(x, y, z):\n",
    "    \"\"\"Computes the 'majority' function: (x AND y) XOR (x AND z) XOR (y AND z).\"\"\"\n",
    "    return (np.uint32(x) & np.uint32(y)) ^ (np.uint32(x) & np.uint32(z)) ^ (np.uint32(y) & np.uint32(z))"
   ]
  },
  {
   "cell_type": "markdown",
   "id": "c06c5c17",
   "metadata": {},
   "source": [
    "#### Code example\n",
    "In this scenario, if we take the value of the first bit position of each input, we will have a = 1, b = 1, c = 0 <br>\n",
    "Since there are more 1s than 0s, 1 will be the output for that position. "
   ]
  },
  {
   "cell_type": "code",
   "execution_count": 83,
   "id": "aa12c023",
   "metadata": {},
   "outputs": [
    {
     "name": "stdout",
     "output_type": "stream",
     "text": [
      "Majority of 1100, 1011, 0001 is 1001\n"
     ]
    }
   ],
   "source": [
    "a, b, c = 0b1100, 0b1011, 0b0001\n",
    "result = maj(a, b, c)\n",
    "print(f\"Majority of {a:04b}, {b:04b}, {c:04b} is {result:04b}\")"
   ]
  },
  {
   "cell_type": "markdown",
   "id": "02395406",
   "metadata": {},
   "source": [
    "### Sigma(0)\n",
    "Performs multiple right shift rotations (ROTR) on a 32 bit variable. The bits are shifted to the right by 2, 13, and 22 positions, then the right-most bits are rotated to the left. <br>\n",
    "This function shows this process, where for each rotation we see binary variable 'x' being shifted to the right 'n' times, before then being shifted to the left '32 - n' times. The latter operation is what achieves the rotation.  "
   ]
  },
  {
   "cell_type": "code",
   "execution_count": 84,
   "id": "b065723f",
   "metadata": {},
   "outputs": [],
   "source": [
    "def Sigma0(x):\n",
    "    \"\"\"Computes the 'Sigma0' function: ROTR^2(x) XOR ROTR^13(x) XOR ROTR^22(x).\n",
    "    This involves rotating the input to the right by 2, 13, and 22 bits and then XORing the results.\"\"\"\n",
    "    x = np.uint32(x)\n",
    "    \n",
    "    # Perform right shift rotations\n",
    "    rotr2 = (x >> 2) | (x << (32 - 2))\n",
    "    rotr13 = (x >> 13) | (x << (32 - 13))\n",
    "    rotr22 = (x >> 22) | (x << (32 - 22))\n",
    "\n",
    "    # Combine the rotated values using XOR\n",
    "    return rotr2 ^ rotr13 ^ rotr22"
   ]
  },
  {
   "cell_type": "markdown",
   "id": "cb42b81e",
   "metadata": {},
   "source": [
    "#### Code example\n",
    "In this scenario, we have '2' as the input, which has a 32-bit binary representation of '00000000000000000000000000000010'. After the rotations, the expected output would be '10000000000100000000100000000000'. <br>We can see where the '1' lands after being shifted to the right two times, which results in it being rotated to the very left of the number. The same can be observed when applying rotr13 and rotr22. The result of each rotation is combined using XOR to give the final output."
   ]
  },
  {
   "cell_type": "code",
   "execution_count": 85,
   "id": "e3e4b3c1",
   "metadata": {},
   "outputs": [
    {
     "name": "stdout",
     "output_type": "stream",
     "text": [
      "Sigma0 of 00000000000000000000000000000010 is 10000000000100000000100000000000\n"
     ]
    }
   ],
   "source": [
    "a = 2  # 32-bit representation: 00000000000000000000000000000010\n",
    "\n",
    "result = Sigma0(a)\n",
    "print(f\"Sigma0 of {a:032b} is {result:032b}\")"
   ]
  },
  {
   "cell_type": "markdown",
   "id": "1712c733",
   "metadata": {},
   "source": [
    "### Sigma1\n",
    "Performs Right Shift Rotations akin to Sigma0, but with different rotations of 6, 11, 25."
   ]
  },
  {
   "cell_type": "code",
   "execution_count": 86,
   "id": "d8e5b934",
   "metadata": {},
   "outputs": [],
   "source": [
    "def Sigma1(x):\n",
    "    \"\"\"Computes the 'Sigma1' function: ROTR^6(x) XOR ROTR^11(x) XOR ROTR^25(x).\n",
    "    This involves rotating the input to the right by 6, 11, and 25 bits and then XORing the results.\"\"\"\n",
    "    x = np.uint32(x)\n",
    "\n",
    "    rotr6 = (x >> 6) | (x << (32 - 6))\n",
    "    rotr11 = (x >> 11) | (x << (32 - 11))\n",
    "    rotr25 = (x >> 25) | (x << (32 - 25))\n",
    "\n",
    "    return rotr6 ^ rotr11 ^ rotr25"
   ]
  },
  {
   "cell_type": "markdown",
   "id": "de406f3d",
   "metadata": {},
   "source": [
    "#### Code example\n",
    "We once again use 2 for our example"
   ]
  },
  {
   "cell_type": "code",
   "execution_count": 87,
   "id": "f84bf4a3",
   "metadata": {},
   "outputs": [
    {
     "name": "stdout",
     "output_type": "stream",
     "text": [
      "Sigma1 of 00000000000000000000000000000010 is 00001000010000000000000100000000\n"
     ]
    }
   ],
   "source": [
    "a = 2\n",
    "\n",
    "result = Sigma1(a)\n",
    "print(f\"Sigma1 of {a:032b} is {result:032b}\")"
   ]
  },
  {
   "cell_type": "markdown",
   "id": "99af9f82",
   "metadata": {},
   "source": [
    "### sigma0\n",
    "Performs a ROTR of 7 and 18 positions, and a <i>right shift</i> operation of 3 positions "
   ]
  },
  {
   "cell_type": "code",
   "execution_count": 88,
   "id": "98f176e7",
   "metadata": {},
   "outputs": [],
   "source": [
    "def sigma0(x):\n",
    "    \"\"\"Computes the 'sigma0' function: ROTR^7(x) XOR ROTR^18(x) XOR SHR^3(x).\n",
    "    This involves rotating the input to the right by 7 and 18 bits, and shifting right by 3 bits, then XORing the results.\n",
    "    Result may have some discarded bits due to the right shift operation.\"\"\"\n",
    "    x = np.uint32(x)\n",
    "\n",
    "    rotr7 = (x >> 7) | (x << (32 - 7))\n",
    "    rotr18 = (x >> 18) | (x << (32 - 18))\n",
    "    shr3 = x >> 3\n",
    "\n",
    "    return rotr7 ^ rotr18 ^ shr3"
   ]
  },
  {
   "cell_type": "markdown",
   "id": "d9a97c44",
   "metadata": {},
   "source": [
    "##### Code example\n",
    "Here we have 2 examples, the latter being the maximum value of an unsigned 32-bit integer. <br>\n",
    "Given that a right shift operation is performed, there are a number of bits discarded after being shifted to the very right. This is easily observed in the variable 'b', where it goes from having '1' for each bit-position, to then having 3 missing."
   ]
  },
  {
   "cell_type": "code",
   "execution_count": 89,
   "id": "35c9c556",
   "metadata": {},
   "outputs": [
    {
     "name": "stdout",
     "output_type": "stream",
     "text": [
      "sigma0 of 00000000000000000000000000001111 is 00011110000000111100000000000001\n",
      "sigma0 of 11111111111111111111111111111111 is 00011111111111111111111111111111\n"
     ]
    }
   ],
   "source": [
    "a = 15  # 32-bit representation: 00000000000000000000000000001111\n",
    "b = 4294967295 # 32-bit representation: 11111111111111111111111111111111, maximum value for a 32-bit unsigned integer\n",
    "\n",
    "result1 = sigma0(a)\n",
    "result2 = sigma0(b)\n",
    "\n",
    "print(f\"sigma0 of {a:032b} is {result1:032b}\")\n",
    "print(f\"sigma0 of {b:032b} is {result2:032b}\")"
   ]
  },
  {
   "cell_type": "markdown",
   "id": "2334262a",
   "metadata": {},
   "source": [
    "### sigma1\n",
    "Performs a ROTR of 17 and 19 positions and a <i>right shift</i> of 10 positions"
   ]
  },
  {
   "cell_type": "code",
   "execution_count": 90,
   "id": "af8b449c",
   "metadata": {},
   "outputs": [],
   "source": [
    "def sigma1(x):\n",
    "    \"\"\"Computes the 'sigma1' function: ROTR^17(x) XOR ROTR^19(x) XOR SHR^10(x).\n",
    "    This involves rotating the input to the right by 17 and 19 bits, and shifting right by 10 bits, then XORing the results.\n",
    "    Result may have some discarded bits due to the right shift operation.\"\"\"\n",
    "    x = np.uint32(x)\n",
    "\n",
    "    rotr17 = (x >> 17) | (x << (32 - 17))\n",
    "    rotr19 = (x >> 19) | (x << (32 - 19))\n",
    "    shr10 = x >> 10\n",
    "\n",
    "    return rotr17 ^ rotr19 ^ shr10"
   ]
  },
  {
   "cell_type": "markdown",
   "id": "0d6676c4",
   "metadata": {},
   "source": [
    "##### Code example\n",
    "Once again, we have 2 examples, with one of them being the maximum value of an unsigned 32-bit integer for easy demonstration purposes.<br>\n",
    "We can see that after the bits are shifted 10 times, 10 bits had been discarded."
   ]
  },
  {
   "cell_type": "code",
   "execution_count": 91,
   "id": "c33c87cc",
   "metadata": {},
   "outputs": [
    {
     "name": "stdout",
     "output_type": "stream",
     "text": [
      "sigma1 of 00000000000000000000000000010111 is 00000000000010010110000000000000\n",
      "sigma1 of 11111111111111111111111111111111 is 00000000001111111111111111111111\n"
     ]
    }
   ],
   "source": [
    "a = 23 # 32-bit representation: 00000000000000000000000000010111\n",
    "b = 4294967295 # 32-bit representation: 11111111111111111111111111111111, maximum value for a 32-bit unsigned integer\n",
    "\n",
    "result1 = sigma1(a)\n",
    "result2 = sigma1(b)\n",
    "\n",
    "print(f\"sigma1 of {a:032b} is {result1:032b}\")\n",
    "print(f\"sigma1 of {b:032b} is {result2:032b}\")"
   ]
  },
  {
   "cell_type": "markdown",
   "id": "fd6fe953",
   "metadata": {},
   "source": [
    "## Problem 2: Fractional Parts of Cube Roots"
   ]
  },
  {
   "cell_type": "markdown",
   "id": "cc25bc99",
   "metadata": {},
   "source": [
    "## Function: Find the first n primes"
   ]
  },
  {
   "cell_type": "code",
   "execution_count": null,
   "id": "6c9e84e2",
   "metadata": {},
   "outputs": [
    {
     "name": "stdout",
     "output_type": "stream",
     "text": [
      "1\n",
      "2\n",
      "3\n",
      "4\n",
      "5\n",
      "6\n",
      "7\n",
      "8\n",
      "9\n",
      "10\n",
      "1\n",
      "2\n",
      "3\n",
      "4\n",
      "5\n",
      "6\n",
      "7\n",
      "8\n",
      "9\n",
      "10\n",
      "11\n",
      "12\n",
      "13\n",
      "14\n",
      "15\n",
      "16\n",
      "17\n",
      "18\n",
      "19\n",
      "20\n",
      "21\n",
      "22\n",
      "23\n",
      "24\n",
      "25\n",
      "26\n",
      "27\n",
      "28\n",
      "29\n",
      "30\n",
      "31\n",
      "32\n",
      "33\n",
      "34\n",
      "35\n",
      "36\n",
      "37\n",
      "38\n",
      "39\n",
      "40\n",
      "41\n",
      "42\n",
      "43\n",
      "44\n",
      "45\n",
      "46\n",
      "47\n",
      "48\n",
      "49\n",
      "50\n",
      "51\n",
      "52\n",
      "53\n",
      "54\n",
      "55\n",
      "56\n",
      "57\n",
      "58\n",
      "59\n",
      "60\n",
      "61\n",
      "62\n",
      "63\n",
      "64\n"
     ]
    }
   ],
   "source": [
    "def primes(n):\n",
    "    \n",
    "    n = n + 1  # Exclude 0\n",
    "    i = 2  # Start from the first prime number '2'\n",
    "\n",
    "    prime_nums = []\n",
    "    \n",
    "    while i < n:\n",
    "        for j in range(i):\n",
    "\n",
    "            if i % j == 0:\n",
    "                prime_nums.append(i)\n",
    "                i += 1\n",
    "            else :\n",
    "                continue\n",
    "\n",
    "primes(3)        \n"
   ]
  },
  {
   "cell_type": "markdown",
   "id": "9f8766d9",
   "metadata": {},
   "source": [
    "## Problem 3: Padding"
   ]
  },
  {
   "cell_type": "markdown",
   "id": "ea7e3765",
   "metadata": {},
   "source": [
    "## Problem 4: Hashes"
   ]
  },
  {
   "cell_type": "markdown",
   "id": "262037a8",
   "metadata": {},
   "source": [
    "## Problem 5: Passwords"
   ]
  }
 ],
 "metadata": {
  "kernelspec": {
   "display_name": "Python 3",
   "language": "python",
   "name": "python3"
  },
  "language_info": {
   "codemirror_mode": {
    "name": "ipython",
    "version": 3
   },
   "file_extension": ".py",
   "mimetype": "text/x-python",
   "name": "python",
   "nbconvert_exporter": "python",
   "pygments_lexer": "ipython3",
   "version": "3.13.1"
  }
 },
 "nbformat": 4,
 "nbformat_minor": 5
}
