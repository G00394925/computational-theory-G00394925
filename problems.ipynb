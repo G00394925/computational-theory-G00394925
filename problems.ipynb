{
 "cells": [
  {
   "cell_type": "markdown",
   "id": "79ecfdf9",
   "metadata": {},
   "source": [
    "# Computational Theory Problems "
   ]
  },
  {
   "cell_type": "markdown",
   "id": "01e3abb7",
   "metadata": {},
   "source": [
    "## Problem 1: Binary Words and Operations"
   ]
  },
  {
   "cell_type": "code",
   "execution_count": 8,
   "id": "98ee01a2",
   "metadata": {},
   "outputs": [],
   "source": [
    "import numpy as np\n",
    "import math"
   ]
  },
  {
   "cell_type": "markdown",
   "id": "d7490fa2",
   "metadata": {},
   "source": [
    "### Parity"
   ]
  },
  {
   "cell_type": "code",
   "execution_count": 9,
   "id": "7515302b",
   "metadata": {},
   "outputs": [],
   "source": [
    "def parity(x, y, z):\n",
    "    \"\"\"Converts the given variables to 32-bit unsigned integers and computes their bitwise parity (XOR).\"\"\"\n",
    "    return np.uint32(x) ^ np.uint32(y) ^ np.uint32(z)"
   ]
  },
  {
   "cell_type": "markdown",
   "id": "9b492f53",
   "metadata": {},
   "source": [
    "#### Code example"
   ]
  },
  {
   "cell_type": "code",
   "execution_count": 10,
   "id": "2327a615",
   "metadata": {},
   "outputs": [
    {
     "name": "stdout",
     "output_type": "stream",
     "text": [
      "Parity of 1010, 1100, 1111 is 1001\n"
     ]
    }
   ],
   "source": [
    "a, b, c = 0b1010, 0b1100, 0b1111\n",
    "result = parity(a, b, c)\n",
    "print(f\"Parity of {a:04b}, {b:04b}, {c:04b} is {result:04b}\")"
   ]
  },
  {
   "cell_type": "markdown",
   "id": "fd6fe953",
   "metadata": {},
   "source": [
    "## Problem 2: Fractional Parts of Cube Roots"
   ]
  },
  {
   "cell_type": "markdown",
   "id": "9f8766d9",
   "metadata": {},
   "source": [
    "## Problem 3: Padding"
   ]
  },
  {
   "cell_type": "markdown",
   "id": "ea7e3765",
   "metadata": {},
   "source": [
    "## Problem 4: Hashes"
   ]
  },
  {
   "cell_type": "markdown",
   "id": "262037a8",
   "metadata": {},
   "source": [
    "## Problem 5: Passwords"
   ]
  }
 ],
 "metadata": {
  "kernelspec": {
   "display_name": "Python 3",
   "language": "python",
   "name": "python3"
  },
  "language_info": {
   "codemirror_mode": {
    "name": "ipython",
    "version": 3
   },
   "file_extension": ".py",
   "mimetype": "text/x-python",
   "name": "python",
   "nbconvert_exporter": "python",
   "pygments_lexer": "ipython3",
   "version": "3.12.1"
  }
 },
 "nbformat": 4,
 "nbformat_minor": 5
}
