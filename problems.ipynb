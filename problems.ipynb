{
 "cells": [
  {
   "cell_type": "markdown",
   "id": "79ecfdf9",
   "metadata": {},
   "source": [
    "# Computational Theory Problems "
   ]
  },
  {
   "cell_type": "markdown",
   "id": "01e3abb7",
   "metadata": {},
   "source": [
    "## Problem 1: Binary Words and Operations"
   ]
  },
  {
   "cell_type": "code",
   "execution_count": 36,
   "id": "98ee01a2",
   "metadata": {},
   "outputs": [],
   "source": [
    "import numpy as np\n",
    "import math"
   ]
  },
  {
   "cell_type": "markdown",
   "id": "d7490fa2",
   "metadata": {},
   "source": [
    "### Parity\n",
    "Parity is a function where a value is 1 if the input vector has an odd number of ones. <br> In a scenario where x = 1, y = 0, z = 1, the parity of this input would be 0, as there is an even number of ones. <br>\n",
    "Whereas if all inputs were equal to 1 the parity would then be 1. This is demonstrated in the code examples below. "
   ]
  },
  {
   "cell_type": "code",
   "execution_count": 37,
   "id": "7515302b",
   "metadata": {},
   "outputs": [],
   "source": [
    "def parity(x, y, z):\n",
    "    \"\"\"Converts the given variables to 32-bit unsigned integers and computes their bitwise parity (XOR).\n",
    "    Returns 1 for each bit position where an odd number of the inputs are 1, otherwise returns 0.\"\"\"\n",
    "    return np.uint32(x) ^ np.uint32(y) ^ np.uint32(z)"
   ]
  },
  {
   "cell_type": "markdown",
   "id": "9b492f53",
   "metadata": {},
   "source": [
    "##### Code example\n",
    "The first bit position of each input is one, leaving 3 ones, which of course is an odd number. <br>\n",
    "This is represented in the first bit position of the binary output, returning one given the odd number. <br>\n",
    "The same logic applies for each respective bit position."
   ]
  },
  {
   "cell_type": "code",
   "execution_count": 38,
   "id": "2327a615",
   "metadata": {},
   "outputs": [
    {
     "name": "stdout",
     "output_type": "stream",
     "text": [
      "Parity of 1010, 1100, 1111 is 1001\n"
     ]
    }
   ],
   "source": [
    "a, b, c = 0b1010, 0b1100, 0b1111  # Binary inputs\n",
    "result = parity(a, b, c)\n",
    "print(f\"Parity of {a:04b}, {b:04b}, {c:04b} is {result:04b}\")  # Output the result in binary format"
   ]
  },
  {
   "cell_type": "markdown",
   "id": "f196036c",
   "metadata": {},
   "source": [
    "### Choose\n",
    "The 'ch' function uses the input 'x' to choose whether 'y' or 'z' should be output. <br>\n",
    "If x = 1, y would be output. Otherwise if x = 0, z is output.<br>\n",
    "In a scenario where x = 1, y = 1, z = 0... the output would be y (1). Else if x = 0, the output would be z (0)"
   ]
  },
  {
   "cell_type": "code",
   "execution_count": 39,
   "id": "a6ef0801",
   "metadata": {},
   "outputs": [],
   "source": [
    "def ch(x, y, z):\n",
    "    \"\"\"Computes the 'choose' function: (x AND y) XOR (NOT x AND z).\n",
    "    \n",
    "    Converts the given variables to 32-bit unsigned integers before performing bitwise operations.\n",
    "    Returns y where x is 1, and z where x is 0.\n",
    "    \"\"\"\n",
    "    return (np.uint32(x) & np.uint32(y)) ^ (~np.uint32(x) & np.uint32(z))"
   ]
  },
  {
   "cell_type": "markdown",
   "id": "a95bbf7d",
   "metadata": {},
   "source": [
    "#### Code example\n",
    "Here we have three 4-bit inputs, where 'a' acts as the definition for 'b' and 'c'. <br>\n",
    "In the case of the first bit position, a = 1. Based on this, b is to be output, which is 0. <br>\n",
    "As for the third bit position where a = 0, c is to be output, which is 0."
   ]
  },
  {
   "cell_type": "code",
   "execution_count": 40,
   "id": "f79249c1",
   "metadata": {},
   "outputs": [
    {
     "name": "stdout",
     "output_type": "stream",
     "text": [
      "Choose of 0111, 1001 based on 1100 is 0101\n"
     ]
    }
   ],
   "source": [
    "a, b, c = 0b1100, 0b0111, 0b1001\n",
    "result = ch(a, b, c)\n",
    "print(f\"Choose of {b:04b}, {c:04b} based on {a:04b} is {result:04b}\")"
   ]
  },
  {
   "cell_type": "markdown",
   "id": "2f10df3e",
   "metadata": {},
   "source": [
    "### Majority\n",
    "This function returns '1' if the majority of the respective inputs are 1. Returns 0 otherwise."
   ]
  },
  {
   "cell_type": "code",
   "execution_count": 41,
   "id": "c7b2bdcb",
   "metadata": {},
   "outputs": [],
   "source": [
    "def maj(x, y, z):\n",
    "    \"\"\"Computes the 'majority' function: (x AND y) XOR (x AND z) XOR (y AND z).\"\"\"\n",
    "    return (np.uint32(x) & np.uint32(y)) ^ (np.uint32(x) & np.uint32(z)) ^ (np.uint32(y) & np.uint32(z))"
   ]
  },
  {
   "cell_type": "markdown",
   "id": "c06c5c17",
   "metadata": {},
   "source": [
    "#### Code example\n",
    "In this scenario, if we take the value of the first bit position of each input, we will have a = 1, b = 1, c = 0 <br>\n",
    "Since there are more 1s than 0s, 1 will be the output for that position. "
   ]
  },
  {
   "cell_type": "code",
   "execution_count": 42,
   "id": "aa12c023",
   "metadata": {},
   "outputs": [
    {
     "name": "stdout",
     "output_type": "stream",
     "text": [
      "Majority of 1100, 1011, 0001 is 1001\n"
     ]
    }
   ],
   "source": [
    "a, b, c = 0b1100, 0b1011, 0b0001\n",
    "result = maj(a, b, c)\n",
    "print(f\"Majority of {a:04b}, {b:04b}, {c:04b} is {result:04b}\")"
   ]
  },
  {
   "cell_type": "markdown",
   "id": "02395406",
   "metadata": {},
   "source": [
    "### Sigma(0)\n",
    "Performs multiple right shift rotations (ROTR) on a 32 bit variable. The bits are shifted to the right by 2, 13, and 22 positions, then the right-most bits are rotated to the left  "
   ]
  },
  {
   "cell_type": "code",
   "execution_count": 43,
   "id": "b065723f",
   "metadata": {},
   "outputs": [],
   "source": [
    "def Sigma0(x):\n",
    "    \"\"\"Computes the 'sigma0' function: ROTR^2(x) XOR ROTR^13(x) XOR ROTR^22(x).\n",
    "    This involves rotating the input to the right by 2, 13, and 22 bits and then XORing the results.\"\"\"\n",
    "    x = np.uint32(x)\n",
    "    \n",
    "    # Perform right shift rotations\n",
    "    rotr2 = (x >> 2) | (x << (32 - 2))\n",
    "    rotr13 = (x >> 13) | (x << (32 - 13))\n",
    "    rotr22 = (x >> 22) | (x << (32 - 22))\n",
    "\n",
    "    # Combine the rotated values using XOR\n",
    "    return rotr2 ^ rotr13 ^ rotr22"
   ]
  },
  {
   "cell_type": "markdown",
   "id": "cb42b81e",
   "metadata": {},
   "source": [
    "#### Code example\n",
    "In this scenario, we have a 32 bit representation of '2' as the input. After the rotations, the expected output would be '10000000000100000000100000000000'. <br>We can see where the '1' lands after being shifted to the right two times, which results in it being rotated to the very left of the number. The same can be observed when applying rotr13 and rotr22."
   ]
  },
  {
   "cell_type": "code",
   "execution_count": 44,
   "id": "e3e4b3c1",
   "metadata": {},
   "outputs": [
    {
     "name": "stdout",
     "output_type": "stream",
     "text": [
      "Sigma0 of 00000000000000000000000000000010 is 10000000000100000000100000000000\n"
     ]
    }
   ],
   "source": [
    "a = 0b00000000000000000000000000000010  # 32-bit binary representation of '2'\n",
    "\n",
    "result = Sigma0(a)\n",
    "print(f\"Sigma0 of {a:032b} is {result:032b}\")"
   ]
  },
  {
   "cell_type": "markdown",
   "id": "1712c733",
   "metadata": {},
   "source": [
    "### Sigma1\n",
    "Performs Right Shift Rotations akin to Sigma0, but with different rotations of 6, 11, 25."
   ]
  },
  {
   "cell_type": "code",
   "execution_count": 45,
   "id": "d8e5b934",
   "metadata": {},
   "outputs": [],
   "source": [
    "def Sigma1(x):\n",
    "    x = np.uint32(x)\n",
    "\n",
    "    rotr6 = (x >> 6) | (x << (32 - 6))\n",
    "    rotr11 = (x >> 11) | (x << (32 - 11))\n",
    "    rotr25 = (x >> 25) | (x << (32 - 25))\n",
    "\n",
    "    return rotr6 ^ rotr11 ^ rotr25"
   ]
  },
  {
   "cell_type": "markdown",
   "id": "de406f3d",
   "metadata": {},
   "source": [
    "#### Code example"
   ]
  },
  {
   "cell_type": "code",
   "execution_count": 46,
   "id": "f84bf4a3",
   "metadata": {},
   "outputs": [
    {
     "name": "stdout",
     "output_type": "stream",
     "text": [
      "Sigma1 of 00000000000000000000000000000010 is 00001000010000000000000100000000\n"
     ]
    }
   ],
   "source": [
    "a = 0b00000000000000000000000000000010\n",
    "\n",
    "result = Sigma1(a)\n",
    "print(f\"Sigma1 of {a:032b} is {result:032b}\")"
   ]
  },
  {
   "cell_type": "markdown",
   "id": "fd6fe953",
   "metadata": {},
   "source": [
    "## Problem 2: Fractional Parts of Cube Roots"
   ]
  },
  {
   "cell_type": "markdown",
   "id": "9f8766d9",
   "metadata": {},
   "source": [
    "## Problem 3: Padding"
   ]
  },
  {
   "cell_type": "markdown",
   "id": "ea7e3765",
   "metadata": {},
   "source": [
    "## Problem 4: Hashes"
   ]
  },
  {
   "cell_type": "markdown",
   "id": "262037a8",
   "metadata": {},
   "source": [
    "## Problem 5: Passwords"
   ]
  }
 ],
 "metadata": {
  "kernelspec": {
   "display_name": "Python 3",
   "language": "python",
   "name": "python3"
  },
  "language_info": {
   "codemirror_mode": {
    "name": "ipython",
    "version": 3
   },
   "file_extension": ".py",
   "mimetype": "text/x-python",
   "name": "python",
   "nbconvert_exporter": "python",
   "pygments_lexer": "ipython3",
   "version": "3.13.7"
  }
 },
 "nbformat": 4,
 "nbformat_minor": 5
}
